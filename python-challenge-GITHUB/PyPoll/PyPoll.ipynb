{
 "cells": [
  {
   "cell_type": "code",
   "execution_count": 75,
   "metadata": {},
   "outputs": [],
   "source": [
    "import os\n",
    "import csv"
   ]
  },
  {
   "cell_type": "code",
   "execution_count": 76,
   "metadata": {},
   "outputs": [],
   "source": [
    "#Set the path containing CSV file\n",
    "csvpath = os.path.join('Resources','PyPoll_Resources_election_data.csv')"
   ]
  },
  {
   "cell_type": "code",
   "execution_count": 77,
   "metadata": {},
   "outputs": [],
   "source": [
    "# integer variables\n",
    "total_votes = 0\n",
    "vote_count = 0\n",
    "#string variables\n",
    "candidate = \"\"\n",
    "candidate_percent = \"\"\n",
    "winner = \"\"\n",
    "#list variables\n",
    "all_candidates = []\n",
    "vote_tally = []\n",
    "vote_percentage = []\n"
   ]
  },
  {
   "cell_type": "code",
   "execution_count": 78,
   "metadata": {},
   "outputs": [],
   "source": [
    "# Open the CSV\n",
    "with open(csvpath, newline=\"\") as csvfile:\n",
    "    csvreader = csv.reader(csvfile, delimiter=\",\")\n",
    "         # Read the header row first\n",
    "    csv_header = next(csvreader)\n",
    "    # Read each row of data after the header\n",
    "    for row in csvreader:\n",
    "        # Count all the Vote ID \n",
    "        # every row after vote ID is a vote         \n",
    "        if row[0] == 'Voter ID':\n",
    "            pass\n",
    "        else:\n",
    "             vote_count = vote_count + 1\n",
    "        # check all candidates to see if the name is in all candidates list\n",
    "        if row[2] not in all_candidates:\n",
    "        # if new candidate, add to candidate list using append and to vote tally\n",
    "                all_candidates.append(row[2])\n",
    "                vote_tally.append(1)    \n",
    "        else:            \n",
    "            vote_tally[all_candidates.index(row[2])] += 1"
   ]
  },
  {
   "cell_type": "code",
   "execution_count": 79,
   "metadata": {},
   "outputs": [],
   "source": [
    "# sum up all the votes\n",
    "total_votes = total_votes + vote_count"
   ]
  },
  {
   "cell_type": "code",
   "execution_count": 80,
   "metadata": {},
   "outputs": [
    {
     "name": "stdout",
     "output_type": "stream",
     "text": [
      "Khan: 2218231\n",
      "Correy: 704200\n",
      "Li: 492940\n",
      "O'Tooley: 105630\n"
     ]
    }
   ],
   "source": [
    "# list comprehension\n",
    "# Return the vote tally of the element with the specified value of each candidate\n",
    "for x in all_candidates:\n",
    "    print( x + \": \" + str(vote_tally[all_candidates.index(x)]))"
   ]
  },
  {
   "cell_type": "code",
   "execution_count": 81,
   "metadata": {},
   "outputs": [
    {
     "name": "stdout",
     "output_type": "stream",
     "text": [
      "Khan: 63.00\n",
      "Correy: 20.00\n",
      "Li: 14.00\n",
      "O'Tooley: 3.00\n"
     ]
    }
   ],
   "source": [
    "# Calculate percent of vote            \n",
    "vote_percentage = [(100/total_votes) * x for x in vote_tally]\n",
    "# list comprehension\n",
    "# Return the percentage of the element with the specified value of each candidate\n",
    "for x in all_candidates:\n",
    "         print( x + \": \" + \"{:.2f}\".format(vote_percentage[all_candidates.index(x)]))"
   ]
  },
  {
   "cell_type": "code",
   "execution_count": 82,
   "metadata": {},
   "outputs": [],
   "source": [
    "# find the max value in vote tally and return the candidate from all candidates\n",
    "winner = all_candidates[vote_tally.index(max(vote_tally))]"
   ]
  },
  {
   "cell_type": "code",
   "execution_count": 85,
   "metadata": {},
   "outputs": [
    {
     "name": "stdout",
     "output_type": "stream",
     "text": [
      "Election Results\n",
      "-------------------------\n",
      "Total Votes: 3521001\n",
      "-------------------------\n",
      "Khan: 63.00% (2218231)\n",
      "Correy: 20.00% (704200)\n",
      "Li: 14.00% (492940)\n",
      "O'Tooley: 3.00% (105630)\n",
      "-------------------------\n",
      "Winner: Khan\n",
      "-------------------------\n"
     ]
    }
   ],
   "source": [
    "# Print the analysis     \n",
    "print(\"Election Results\")\n",
    "print(\"-------------------------\")\n",
    "print(\"Total Votes: \" + str(total_votes))\n",
    "print(\"-------------------------\")\n",
    "for x in all_candidates:\n",
    "    print(x + \": \" + \"{:.2f}\".format(vote_percentage[all_candidates.index(x)]) \n",
    "        + \"% (\" + str(vote_tally[all_candidates.index(x)]) + \")\")\n",
    "print(\"-------------------------\")\n",
    "print(\"Winner: \" + winner)\n",
    "print(\"-------------------------\")"
   ]
  },
  {
   "cell_type": "code",
   "execution_count": 86,
   "metadata": {},
   "outputs": [],
   "source": [
    "# Print the analysis to a txt file\n",
    "with open (\"PyPoll_Analysis.txt\",\"w\") as PyPoll_Analysis:\n",
    "    print(\"Election Results\\n\", file=PyPoll_Analysis)\n",
    "    print(\"---------------------------\", file=PyPoll_Analysis)\n",
    "    print(\"Total Votes: \" + str(total_votes), file=PyPoll_Analysis)\n",
    "    print(\"---------------------------\", file=PyPoll_Analysis)\n",
    "    print(\"-------------------------\", file=PyPoll_Analysis)\n",
    "    for x in all_candidates:\n",
    "        print(x + \": \" + \"{:.2f}\".format(vote_percentage[all_candidates.index(x)]) \n",
    "        + \"% (\" + str(vote_tally[all_candidates.index(x)]) + \")\", file=PyPoll_Analysis)\n",
    "    print(\"-------------------------\", file=PyPoll_Analysis)\n",
    "    print(\"Winner: \" + winner, file=PyPoll_Analysis)\n",
    "    print(\"-------------------------\", file=PyPoll_Analysis)"
   ]
  },
  {
   "cell_type": "code",
   "execution_count": null,
   "metadata": {},
   "outputs": [],
   "source": []
  }
 ],
 "metadata": {
  "kernelspec": {
   "display_name": "Python 3",
   "language": "python",
   "name": "python3"
  },
  "language_info": {
   "codemirror_mode": {
    "name": "ipython",
    "version": 3
   },
   "file_extension": ".py",
   "mimetype": "text/x-python",
   "name": "python",
   "nbconvert_exporter": "python",
   "pygments_lexer": "ipython3",
   "version": "3.8.5"
  }
 },
 "nbformat": 4,
 "nbformat_minor": 4
}
